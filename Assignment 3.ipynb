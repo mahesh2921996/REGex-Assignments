{
 "cells": [
  {
   "cell_type": "markdown",
   "metadata": {},
   "source": [
    "<h2> Task - 3 </h2>"
   ]
  },
  {
   "cell_type": "markdown",
   "metadata": {},
   "source": [
    "<h1>Register Id: SIRSS2292\n",
    "    \n",
    "Name: Mahesh Deshmukh </h1>"
   ]
  },
  {
   "cell_type": "markdown",
   "metadata": {},
   "source": [
    "Q1. Write a function to return nth term of Fibonacci sequence."
   ]
  },
  {
   "cell_type": "code",
   "execution_count": 1,
   "metadata": {},
   "outputs": [],
   "source": [
    "def Fibonacci():\n",
    "    num = int(input('Enter the numeber:'))\n",
    "    Fibonacci_Sequence = [0,1]\n",
    "    \n",
    "    for i in range(0,(num+1)):\n",
    "        if num == 0:\n",
    "            return Fibonacci_Sequence[0]\n",
    "        elif num == 1:\n",
    "            return Fibonacci_Sequence\n",
    "        if i>2:\n",
    "            k = Fibonacci_Sequence[i-2] + Fibonacci_Sequence[i-3]\n",
    "            Fibonacci_Sequence.append(k)\n",
    "    return Fibonacci_Sequence\n",
    "    "
   ]
  },
  {
   "cell_type": "code",
   "execution_count": 2,
   "metadata": {},
   "outputs": [
    {
     "name": "stdout",
     "output_type": "stream",
     "text": [
      "Enter the numeber:10\n"
     ]
    },
    {
     "data": {
      "text/plain": [
       "[0, 1, 1, 2, 3, 5, 8, 13, 21, 34]"
      ]
     },
     "execution_count": 2,
     "metadata": {},
     "output_type": "execute_result"
    }
   ],
   "source": [
    "Fibonacci()"
   ]
  },
  {
   "cell_type": "markdown",
   "metadata": {},
   "source": [
    "Q2. Write a function to find out GCD of two numbers using EUCLID'S algorithm."
   ]
  },
  {
   "cell_type": "code",
   "execution_count": 1,
   "metadata": {},
   "outputs": [],
   "source": [
    "def gcd():\n",
    "    num1 = int(input('Enter first number:'))\n",
    "    num2 = int(input('Enter second number:'))\n",
    "    \n",
    "    # this list contain all common divisor of num1 and num2 numbers.\n",
    "    common_divisor_list = []\n",
    "    \n",
    "    for i in range(1,num1):\n",
    "        for j in range(1,num2):\n",
    "            if (num1//i and num1%i==0 and num2//j and num2%j==0):\n",
    "                if i == j:\n",
    "                    common_divisor_list.append(i)\n",
    "                    \n",
    "    # gcd means greatest common divisor. So here highest divisor is last element of this list.         \n",
    "    return common_divisor_list[-1]"
   ]
  },
  {
   "cell_type": "code",
   "execution_count": 2,
   "metadata": {},
   "outputs": [
    {
     "name": "stdout",
     "output_type": "stream",
     "text": [
      "Enter first number:56\n",
      "Enter second number:45\n"
     ]
    },
    {
     "data": {
      "text/plain": [
       "1"
      ]
     },
     "execution_count": 2,
     "metadata": {},
     "output_type": "execute_result"
    }
   ],
   "source": [
    "gcd()"
   ]
  },
  {
   "cell_type": "markdown",
   "metadata": {},
   "source": [
    "Q3. Write a function to find LCM of two number in most optimizers way."
   ]
  },
  {
   "cell_type": "code",
   "execution_count": 5,
   "metadata": {},
   "outputs": [],
   "source": [
    "def lcm():\n",
    "    num1 = int(input('Enter first number:'))\n",
    "    num2 = int(input('Enter second number:'))\n",
    "    \n",
    "    # this list contain all common divisor of num1 and num2 numbers.\n",
    "    common_divisor_list = []\n",
    "    \n",
    "    for i in range(1,num1):\n",
    "        for j in range(1,num2):\n",
    "            if (num1//i and num1%i==0 and num2//j and num2%j==0):\n",
    "                if i == j:\n",
    "                    common_divisor_list.append(i)\n",
    "                    \n",
    "    # lcm means least common multiple of integers num1 and num2 numbers.\n",
    "    # according to formula lcm(a,b) = absolute(a*b) / gcd (a,b)\n",
    "    gcd = common_divisor_list[-1]\n",
    "    lcm = abs(num1*num2)//gcd\n",
    "    return lcm"
   ]
  },
  {
   "cell_type": "code",
   "execution_count": 6,
   "metadata": {},
   "outputs": [
    {
     "name": "stdout",
     "output_type": "stream",
     "text": [
      "Enter first number:10\n",
      "Enter second number:12\n"
     ]
    },
    {
     "data": {
      "text/plain": [
       "60"
      ]
     },
     "execution_count": 6,
     "metadata": {},
     "output_type": "execute_result"
    }
   ],
   "source": [
    "lcm()"
   ]
  },
  {
   "cell_type": "code",
   "execution_count": null,
   "metadata": {},
   "outputs": [],
   "source": []
  }
 ],
 "metadata": {
  "kernelspec": {
   "display_name": "Python 3",
   "language": "python",
   "name": "python3"
  },
  "language_info": {
   "codemirror_mode": {
    "name": "ipython",
    "version": 3
   },
   "file_extension": ".py",
   "mimetype": "text/x-python",
   "name": "python",
   "nbconvert_exporter": "python",
   "pygments_lexer": "ipython3",
   "version": "3.8.5"
  }
 },
 "nbformat": 4,
 "nbformat_minor": 4
}
