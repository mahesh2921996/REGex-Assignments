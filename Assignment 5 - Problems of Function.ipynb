{
 "cells": [
  {
   "cell_type": "markdown",
   "metadata": {},
   "source": [
    "<h2>Task - 5 </h2>"
   ]
  },
  {
   "cell_type": "markdown",
   "metadata": {},
   "source": [
    "# Register Id: SIRSS2292\n",
    "# Name: Mahesh Deshmukh"
   ]
  },
  {
   "cell_type": "markdown",
   "metadata": {},
   "source": [
    "Q1. Given a list of integers, write a function to return the sum of all prime numbers in that\n",
    "list."
   ]
  },
  {
   "cell_type": "code",
   "execution_count": 1,
   "metadata": {},
   "outputs": [],
   "source": [
    "lst = [1,5,40,12,11]"
   ]
  },
  {
   "cell_type": "code",
   "execution_count": 2,
   "metadata": {},
   "outputs": [],
   "source": [
    "def sum_prime(lst):\n",
    "    sum_list = []\n",
    "    for i in lst:\n",
    "        for j in range(2, i-1 ):\n",
    "            if i%j == 0:\n",
    "                break\n",
    "        else:\n",
    "            sum_list.append(i)\n",
    "    return sum(sum_list)"
   ]
  },
  {
   "cell_type": "code",
   "execution_count": 3,
   "metadata": {},
   "outputs": [
    {
     "data": {
      "text/plain": [
       "17"
      ]
     },
     "execution_count": 3,
     "metadata": {},
     "output_type": "execute_result"
    }
   ],
   "source": [
    "sum_prime(lst)"
   ]
  },
  {
   "cell_type": "markdown",
   "metadata": {},
   "source": [
    "Q2. Given a list of integers, write a function to check whether the list is strictly increasing or\n",
    "not."
   ]
  },
  {
   "cell_type": "code",
   "execution_count": 4,
   "metadata": {},
   "outputs": [],
   "source": [
    "def check_lst_increas(ls):\n",
    "    import numpy as np\n",
    "    lst2 = np.arange(ls[0],ls[-1]+1)\n",
    "    lst3 = lst2.tolist()\n",
    "    if lst3 == ls:\n",
    "        print('list is strictly increasing')\n",
    "    else:\n",
    "        print('list is not strictly increasing')  "
   ]
  },
  {
   "cell_type": "code",
   "execution_count": 5,
   "metadata": {},
   "outputs": [],
   "source": [
    "lst1 = [5,6,7,8,9,12]"
   ]
  },
  {
   "cell_type": "code",
   "execution_count": 6,
   "metadata": {},
   "outputs": [
    {
     "name": "stdout",
     "output_type": "stream",
     "text": [
      "list is not strictly increasing\n"
     ]
    }
   ],
   "source": [
    "check_lst_increas(lst1)"
   ]
  },
  {
   "cell_type": "markdown",
   "metadata": {},
   "source": [
    "Q3. Write a function to check whether a given list is expanding or not (the difference\n",
    "between adjacent elements should keep on increasing)."
   ]
  },
  {
   "cell_type": "code",
   "execution_count": 7,
   "metadata": {},
   "outputs": [],
   "source": [
    "def check_expanding_list():\n",
    "    num = (input('Enter the input of list:'))\n",
    "    list1 = []\n",
    "    list5 = []\n",
    "    mem = num.split(',')\n",
    "    for i in mem:\n",
    "        list1.append(int(i))\n",
    "        list5.append(int(i))\n",
    "    print(list1)\n",
    "    list2 = list1\n",
    "    list2.sort()\n",
    "    if list5 == list2:\n",
    "        print('Given list is expanding')\n",
    "    else:\n",
    "        print('Given list is not expanding')"
   ]
  },
  {
   "cell_type": "code",
   "execution_count": 8,
   "metadata": {},
   "outputs": [
    {
     "name": "stdout",
     "output_type": "stream",
     "text": [
      "Enter the input of list:1,5,45,60\n",
      "[1, 5, 45, 60]\n",
      "Given list is expanding\n"
     ]
    }
   ],
   "source": [
    "check_expanding_list()"
   ]
  },
  {
   "cell_type": "markdown",
   "metadata": {},
   "source": [
    "Q4. Write a function to calculate all permutations of a given string. (Without using itertools)"
   ]
  },
  {
   "cell_type": "code",
   "execution_count": 9,
   "metadata": {},
   "outputs": [
    {
     "name": "stdout",
     "output_type": "stream",
     "text": [
      "Enter the string : ram\n",
      "All possible strings are : \n",
      "ram  rma  arm  amr  mra  mar  "
     ]
    }
   ],
   "source": [
    "def permutation(string, ans):\n",
    "    if (len(string) == 0):\n",
    "        print(ans, end = \"  \")\n",
    "        return\n",
    "     \n",
    "    for i in range(len(string)):\n",
    "        ch = string[i]\n",
    "        left = string[0:i]\n",
    "        right = string[i + 1:]\n",
    "        rest = left + right\n",
    "        permutation(rest, ans + ch)\n",
    " \n",
    "\n",
    "ans = \"\"\n",
    " \n",
    "string = input(\"Enter the string : \")\n",
    " \n",
    "print(\"All possible strings are : \")\n",
    "permutation(string, ans)\n"
   ]
  },
  {
   "cell_type": "code",
   "execution_count": null,
   "metadata": {},
   "outputs": [],
   "source": []
  }
 ],
 "metadata": {
  "kernelspec": {
   "display_name": "Python 3",
   "language": "python",
   "name": "python3"
  },
  "language_info": {
   "codemirror_mode": {
    "name": "ipython",
    "version": 3
   },
   "file_extension": ".py",
   "mimetype": "text/x-python",
   "name": "python",
   "nbconvert_exporter": "python",
   "pygments_lexer": "ipython3",
   "version": "3.8.5"
  }
 },
 "nbformat": 4,
 "nbformat_minor": 4
}
