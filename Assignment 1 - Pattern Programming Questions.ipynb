{
 "cells": [
  {
   "cell_type": "markdown",
   "metadata": {},
   "source": []
  },
  {
   "cell_type": "markdown",
   "metadata": {},
   "source": [
    "<h3> <b> Task 1 </b> </h3>\n",
    "<h4><b> Registration Id :</b> SIRSS2292</h4>\n",
    "<h4><b> Name : </b> Mahesh Deshmukh</h4>"
   ]
  },
  {
   "cell_type": "code",
   "execution_count": 1,
   "metadata": {},
   "outputs": [
    {
     "name": "stdout",
     "output_type": "stream",
     "text": [
      "5 5 5 5 5 \n",
      "5 5 5 5 \n",
      "5 5 5 \n",
      "5 5 \n",
      "5 \n"
     ]
    }
   ],
   "source": [
    "# Question 1\n",
    "\n",
    "for i in range(5,0,-1):\n",
    "    print('5 '*i)"
   ]
  },
  {
   "cell_type": "code",
   "execution_count": 2,
   "metadata": {},
   "outputs": [
    {
     "name": "stdout",
     "output_type": "stream",
     "text": [
      "0 1 2 3 4 5 \n",
      "0 1 2 3 4 \n",
      "0 1 2 3 \n",
      "0 1 2 \n",
      "0 1 \n"
     ]
    }
   ],
   "source": [
    "# Question 2\n",
    "\n",
    "for i in range(0,5):\n",
    "    for j in range(0,6):\n",
    "        if j>=i:\n",
    "            print(j-i,end=' ')\n",
    "        else:\n",
    "            print('',end='')\n",
    "    print()"
   ]
  },
  {
   "cell_type": "code",
   "execution_count": 3,
   "metadata": {},
   "outputs": [
    {
     "name": "stdout",
     "output_type": "stream",
     "text": [
      "1         \n",
      "3 3       \n",
      "5 5 5     \n",
      "7 7 7 7   \n",
      "9 9 9 9 9 \n"
     ]
    }
   ],
   "source": [
    "# Question 3\n",
    "\n",
    "k=1\n",
    "for i in range (1,6):\n",
    "    for j in range(1,6):\n",
    "        if j<=i:\n",
    "            print(k,end=' ')\n",
    "            \n",
    "        else:\n",
    "            print(' ',end=' ')\n",
    "    k=k+2\n",
    "    print()"
   ]
  },
  {
   "cell_type": "code",
   "execution_count": 4,
   "metadata": {},
   "outputs": [
    {
     "name": "stdout",
     "output_type": "stream",
     "text": [
      "1         \n",
      "2 1       \n",
      "3 2 1     \n",
      "4 3 2 1   \n",
      "5 4 3 2 1 \n"
     ]
    }
   ],
   "source": [
    "# Question 4\n",
    "\n",
    "for i in range (1,6):\n",
    "    for j in range(1,6):\n",
    "        if j<=i:\n",
    "            k=i-j\n",
    "            \n",
    "            print(k+1,end=' ')\n",
    "            \n",
    "        else:\n",
    "            print(' ',end=' ')\n",
    "    \n",
    "    print()"
   ]
  },
  {
   "cell_type": "code",
   "execution_count": 5,
   "metadata": {},
   "outputs": [
    {
     "name": "stdout",
     "output_type": "stream",
     "text": [
      "1   \n",
      "3 2 \n",
      "6 5 4 \n",
      "10 9 8 7 \n"
     ]
    }
   ],
   "source": [
    "# Question 5\n",
    "\n",
    "k=1\n",
    "for i in range (1,3):\n",
    "    \n",
    "    for j in range(1,3):\n",
    "        if j<=i:  \n",
    "            \n",
    "            print(k,end=' ')\n",
    "            k=k-1\n",
    "            \n",
    "        else:\n",
    "            print(' ',end=' ')\n",
    "    k=k+3\n",
    "    \n",
    "    print()\n",
    "o=6\n",
    "for m in range(3,4):\n",
    "    for n in range(3,6):\n",
    "        if j<=m:\n",
    "            print(o,end=' ')\n",
    "            o=o-1\n",
    "            \n",
    "        else:\n",
    "            print(' ',end=' ')\n",
    "    print()\n",
    "    \n",
    "c=10    \n",
    "for a in range(4,5):\n",
    "    for b in range(3,7):\n",
    "        if j<=m:\n",
    "            print(c,end=' ')\n",
    "            c=c-1\n",
    "            \n",
    "        else:\n",
    "            print(' ',end=' ')\n",
    "    print()"
   ]
  },
  {
   "cell_type": "code",
   "execution_count": 6,
   "metadata": {},
   "outputs": [
    {
     "name": "stdout",
     "output_type": "stream",
     "text": [
      "1 \n",
      "1 1 \n",
      "1 2 1 \n",
      "1 3 3 1 \n",
      "1 4 6 4 1 \n",
      "1 5 10 10 5 1 \n",
      "1 6 15 20 15 6 1 \n"
     ]
    }
   ],
   "source": [
    "# Question 6\n",
    "\n",
    "list1 = []\n",
    "# get a list of pascal value \n",
    "for i in range(7):\n",
    "    temp_list = []\n",
    "    for j in range(i+1):\n",
    "        if j==0 or j==i:\n",
    "            temp_list.append(1)\n",
    "        else:\n",
    "            temp_list.append(list1[i-1][j-1] + list1[i-1][j])\n",
    "    list1.append(temp_list)\n",
    "    \n",
    "# print pascal pattern\n",
    "for i in range(7):\n",
    "    for j in range(7-i-1):\n",
    "        print('',end='')\n",
    "    for j in range(i+1):\n",
    "        print(list1[i][j],end=' ')\n",
    "    print()"
   ]
  },
  {
   "cell_type": "code",
   "execution_count": 7,
   "metadata": {},
   "outputs": [
    {
     "name": "stdout",
     "output_type": "stream",
     "text": [
      "1 2 3 4 5 \n",
      "2 2 3 4 5 \n",
      "3 3 3 4 5 \n",
      "4 4 4 4 5 \n",
      "5 5 5 5 5 \n"
     ]
    }
   ],
   "source": [
    "# Question 7\n",
    "\n",
    "for i in range(1,6):\n",
    "    for j in range(1,6):\n",
    "        if j<=i:\n",
    "            print(i,end=' ')\n",
    "        else:\n",
    "            print(j,end=' ')\n",
    "    print()"
   ]
  },
  {
   "cell_type": "code",
   "execution_count": 8,
   "metadata": {},
   "outputs": [
    {
     "name": "stdout",
     "output_type": "stream",
     "text": [
      "1               \n",
      "2 4             \n",
      "3 6 9           \n",
      "4 8 12 16         \n",
      "5 10 15 20 25       \n",
      "6 12 18 24 30 36     \n",
      "7 14 21 28 35 42 49   \n",
      "8 16 24 32 40 48 56 64 \n"
     ]
    }
   ],
   "source": [
    "# Question 8\n",
    "\n",
    "for i in range(1,9):\n",
    "    for j in range(1,9):\n",
    "        if j<=i:\n",
    "            #if k<=i-j:\n",
    "            print(i*j,end=' ')  \n",
    "        else:\n",
    "            print(' ',end=' ')\n",
    "    print()"
   ]
  },
  {
   "cell_type": "code",
   "execution_count": 9,
   "metadata": {},
   "outputs": [
    {
     "name": "stdout",
     "output_type": "stream",
     "text": [
      "       * * * * * *  \n",
      "        * * * * *   \n",
      "         * * * *    \n",
      "          * * *     \n",
      "           * *      \n",
      "            *       \n",
      "                    \n"
     ]
    }
   ],
   "source": [
    "# Question 9\n",
    "\n",
    "for i in range(1,8):\n",
    "    for j in range(22,2,-1):\n",
    "        if(j>=(i+4) and j<=(16-i) and k):\n",
    "            print('*',end='')\n",
    "            k=0\n",
    "        else:\n",
    "            print('',end=' ')\n",
    "            k=1\n",
    "    print()"
   ]
  },
  {
   "cell_type": "code",
   "execution_count": 10,
   "metadata": {},
   "outputs": [
    {
     "name": "stdout",
     "output_type": "stream",
     "text": [
      "      *      \n",
      "     * *     \n",
      "    * * *    \n",
      "   * * * *   \n",
      "  * * * * *  \n",
      " * * * * * * \n",
      "* * * * * * *\n"
     ]
    }
   ],
   "source": [
    "# Question 10\n",
    "\n",
    "for i in range(1,8):\n",
    "    for j in range(1,14):\n",
    "        if (j>=(8-i) and j<=(6+i) and k):\n",
    "            print('*',end='')\n",
    "            k=0\n",
    "        else:\n",
    "            print(' ',end='')\n",
    "            k=1\n",
    "    print('')"
   ]
  },
  {
   "cell_type": "code",
   "execution_count": 11,
   "metadata": {},
   "outputs": [
    {
     "name": "stdout",
     "output_type": "stream",
     "text": [
      "\n",
      "* \n",
      "* * \n",
      "* * * \n",
      "* * * * \n",
      "* * * * * \n",
      "* * * * * * \n",
      "\n",
      "* * * * * * \n",
      "* * * * * \n",
      "* * * * \n",
      "* * * \n",
      "* * \n",
      "* \n"
     ]
    }
   ],
   "source": [
    "# Question 11\n",
    "\n",
    "for i in range(0,7,1):\n",
    "    print('* '*i)\n",
    "    j=j+1\n",
    "print()\n",
    "for i in range(6,0,-1):\n",
    "    print('* '*i)\n",
    "    j=j+1 "
   ]
  },
  {
   "cell_type": "code",
   "execution_count": 12,
   "metadata": {},
   "outputs": [
    {
     "name": "stdout",
     "output_type": "stream",
     "text": [
      "\n",
      "\n",
      "* \n",
      "* * \n",
      "* * * \n",
      "* * * * \n",
      "* * * * * \n",
      "* * * * \n",
      "* * * \n",
      "* * \n",
      "* \n"
     ]
    }
   ],
   "source": [
    "# Question 12\n",
    "\n",
    "j=0\n",
    "for i in range(0,6,1):\n",
    "    print('* '*(i-1))\n",
    "    j=j+1\n",
    "for i in range(5,0,-1):\n",
    "    print('* '*i)\n",
    "    j=j+1"
   ]
  },
  {
   "cell_type": "code",
   "execution_count": 13,
   "metadata": {},
   "outputs": [
    {
     "name": "stdout",
     "output_type": "stream",
     "text": [
      "          \n",
      "        * \n",
      "      * * \n",
      "    * * * \n",
      "  * * * * \n",
      "* * * * * \n",
      "  * * * * \n",
      "    * * * \n",
      "      * * \n",
      "        * \n"
     ]
    }
   ],
   "source": [
    "# Question 13\n",
    "\n",
    "for i in range(5,0,-1):\n",
    "    for j in range(1,6):\n",
    "        if j<=i:\n",
    "            print(' ',end=' ')\n",
    "        else:\n",
    "            print('*',end=' ')\n",
    "    print()\n",
    "\n",
    "for i in range(5,0,-1):\n",
    "    for j in range(5,0,-1):\n",
    "        if j<=i:\n",
    "            print('*',end=' ')\n",
    "           \n",
    "        else:\n",
    "            print(' ',end=' ')\n",
    "    print()"
   ]
  },
  {
   "cell_type": "code",
   "execution_count": 14,
   "metadata": {},
   "outputs": [
    {
     "name": "stdout",
     "output_type": "stream",
     "text": [
      " * * * * \n",
      " * * * * \n",
      "  * * *  \n",
      "   * *   \n",
      "    *    \n",
      "    *      \n",
      "   * *     \n",
      "  * * *    \n",
      " * * * *   \n",
      "* * * * *  \n"
     ]
    }
   ],
   "source": [
    "# Question 14\n",
    "for i in range(1,6):\n",
    "    for j in range(1,10,1):\n",
    "        if(j>=i and j<=(10-i) and k):\n",
    "            print('*',end='')\n",
    "            k=0\n",
    "        else:\n",
    "            print('',end=' ')\n",
    "            k=1\n",
    "    print()\n",
    "    \n",
    "for i in range(1,6):\n",
    "    for j in range(3,14):\n",
    "        if (j>=(8-i) and j<=(6+i) and k):\n",
    "            print('*',end='')\n",
    "            k=0\n",
    "        else:\n",
    "            print(' ',end='')\n",
    "            k=1\n",
    "    print('')"
   ]
  },
  {
   "cell_type": "code",
   "execution_count": 15,
   "metadata": {},
   "outputs": [
    {
     "name": "stdout",
     "output_type": "stream",
     "text": [
      "***************\n",
      "*******_*******\n",
      "******___******\n",
      "*****_____*****\n",
      "****_______****\n",
      "***_________***\n",
      "**___________**\n",
      "*_____________*\n"
     ]
    }
   ],
   "source": [
    "# Question 15\n",
    "\n",
    "for i in range(8,0,-1):\n",
    "    for j in range(1,9):\n",
    "        if j<=i:\n",
    "            print('*',end='')\n",
    "        else:\n",
    "            print('_',end='')\n",
    "    \n",
    "    for j in range(16,9,-1):\n",
    "        if j<=i+9 :\n",
    "            print('*',end='')\n",
    "            \n",
    "        else:\n",
    "            print('_',end='')\n",
    "            \n",
    "    print()"
   ]
  },
  {
   "cell_type": "code",
   "execution_count": null,
   "metadata": {},
   "outputs": [],
   "source": []
  }
 ],
 "metadata": {
  "kernelspec": {
   "display_name": "Python 3",
   "language": "python",
   "name": "python3"
  },
  "language_info": {
   "codemirror_mode": {
    "name": "ipython",
    "version": 3
   },
   "file_extension": ".py",
   "mimetype": "text/x-python",
   "name": "python",
   "nbconvert_exporter": "python",
   "pygments_lexer": "ipython3",
   "version": "3.8.5"
  }
 },
 "nbformat": 4,
 "nbformat_minor": 4
}
